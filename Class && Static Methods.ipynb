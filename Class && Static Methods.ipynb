{
 "cells": [
  {
   "cell_type": "code",
   "execution_count": 3,
   "metadata": {},
   "outputs": [],
   "source": [
    "class MyClass:\n",
    "    def hello():\n",
    "        print('hello...')\n",
    "        \n",
    "    def inst_hello(self):\n",
    "        print(f'hello from {self}')\n",
    "              \n",
    "    @classmethod\n",
    "    def cls_hello(cls):\n",
    "        print(f'hello from {cls}')"
   ]
  },
  {
   "cell_type": "code",
   "execution_count": 4,
   "metadata": {},
   "outputs": [],
   "source": [
    "i = MyClass()"
   ]
  },
  {
   "cell_type": "code",
   "execution_count": 5,
   "metadata": {},
   "outputs": [
    {
     "ename": "TypeError",
     "evalue": "hello() takes 0 positional arguments but 1 was given",
     "output_type": "error",
     "traceback": [
      "\u001b[0;31m---------------------------------------------------------------------------\u001b[0m",
      "\u001b[0;31mTypeError\u001b[0m                                 Traceback (most recent call last)",
      "\u001b[0;32m<ipython-input-5-a6bca06ed82f>\u001b[0m in \u001b[0;36m<module>\u001b[0;34m\u001b[0m\n\u001b[0;32m----> 1\u001b[0;31m \u001b[0mi\u001b[0m\u001b[0;34m.\u001b[0m\u001b[0mhello\u001b[0m\u001b[0;34m(\u001b[0m\u001b[0;34m)\u001b[0m\u001b[0;34m\u001b[0m\u001b[0;34m\u001b[0m\u001b[0m\n\u001b[0m",
      "\u001b[0;31mTypeError\u001b[0m: hello() takes 0 positional arguments but 1 was given"
     ]
    }
   ],
   "source": [
    "i.hello()"
   ]
  },
  {
   "cell_type": "code",
   "execution_count": 6,
   "metadata": {},
   "outputs": [
    {
     "data": {
      "text/plain": [
       "<bound method MyClass.cls_hello of <class '__main__.MyClass'>>"
      ]
     },
     "execution_count": 6,
     "metadata": {},
     "output_type": "execute_result"
    }
   ],
   "source": [
    "i.cls_hello"
   ]
  },
  {
   "cell_type": "code",
   "execution_count": 7,
   "metadata": {},
   "outputs": [
    {
     "name": "stdout",
     "output_type": "stream",
     "text": [
      "hello from <class '__main__.MyClass'>\n"
     ]
    }
   ],
   "source": [
    "i.cls_hello()"
   ]
  },
  {
   "cell_type": "code",
   "execution_count": 8,
   "metadata": {},
   "outputs": [
    {
     "name": "stdout",
     "output_type": "stream",
     "text": [
      "hello from <__main__.MyClass object at 0x7f94d971a090>\n"
     ]
    }
   ],
   "source": [
    "i.inst_hello()"
   ]
  },
  {
   "cell_type": "code",
   "execution_count": 9,
   "metadata": {},
   "outputs": [
    {
     "data": {
      "text/plain": [
       "{}"
      ]
     },
     "execution_count": 9,
     "metadata": {},
     "output_type": "execute_result"
    }
   ],
   "source": [
    "i.__dict__"
   ]
  },
  {
   "cell_type": "code",
   "execution_count": 10,
   "metadata": {},
   "outputs": [
    {
     "name": "stdout",
     "output_type": "stream",
     "text": [
      "hello from <class '__main__.MyClass'>\n"
     ]
    }
   ],
   "source": [
    "MyClass.cls_hello()"
   ]
  },
  {
   "cell_type": "code",
   "execution_count": 12,
   "metadata": {},
   "outputs": [
    {
     "name": "stdout",
     "output_type": "stream",
     "text": [
      "hello from <__main__.MyClass object at 0x7f94d971a090>\n"
     ]
    }
   ],
   "source": [
    "MyClass.inst_hello(i)"
   ]
  },
  {
   "cell_type": "markdown",
   "metadata": {},
   "source": [
    "STATICMETHOD"
   ]
  },
  {
   "cell_type": "code",
   "execution_count": 13,
   "metadata": {},
   "outputs": [],
   "source": [
    "class Circle:\n",
    "    @staticmethod\n",
    "    def help():\n",
    "        return 'help avaible'"
   ]
  },
  {
   "cell_type": "code",
   "execution_count": 14,
   "metadata": {},
   "outputs": [
    {
     "data": {
      "text/plain": [
       "function"
      ]
     },
     "execution_count": 14,
     "metadata": {},
     "output_type": "execute_result"
    }
   ],
   "source": [
    "type(Circle.help)"
   ]
  },
  {
   "cell_type": "code",
   "execution_count": 15,
   "metadata": {},
   "outputs": [
    {
     "data": {
      "text/plain": [
       "'help avaible'"
      ]
     },
     "execution_count": 15,
     "metadata": {},
     "output_type": "execute_result"
    }
   ],
   "source": [
    "Circle.help()"
   ]
  },
  {
   "cell_type": "code",
   "execution_count": 16,
   "metadata": {},
   "outputs": [],
   "source": [
    "c = Circle()"
   ]
  },
  {
   "cell_type": "code",
   "execution_count": 17,
   "metadata": {},
   "outputs": [
    {
     "data": {
      "text/plain": [
       "function"
      ]
     },
     "execution_count": 17,
     "metadata": {},
     "output_type": "execute_result"
    }
   ],
   "source": [
    "type(c.help)"
   ]
  },
  {
   "cell_type": "code",
   "execution_count": 18,
   "metadata": {},
   "outputs": [
    {
     "data": {
      "text/plain": [
       "'help avaible'"
      ]
     },
     "execution_count": 18,
     "metadata": {},
     "output_type": "execute_result"
    }
   ],
   "source": [
    "c.help()"
   ]
  },
  {
   "cell_type": "code",
   "execution_count": null,
   "metadata": {},
   "outputs": [],
   "source": [
    "\n"
   ]
  },
  {
   "cell_type": "code",
   "execution_count": 1,
   "metadata": {},
   "outputs": [],
   "source": [
    "class Person:\n",
    "    def hello(arg='default'):\n",
    "        print(f'Hello, with arg={arg}')"
   ]
  },
  {
   "cell_type": "code",
   "execution_count": 2,
   "metadata": {},
   "outputs": [
    {
     "name": "stdout",
     "output_type": "stream",
     "text": [
      "Hello, with arg=default\n"
     ]
    }
   ],
   "source": [
    "Person.hello()"
   ]
  },
  {
   "cell_type": "code",
   "execution_count": 4,
   "metadata": {},
   "outputs": [],
   "source": [
    "p = Person()"
   ]
  },
  {
   "cell_type": "code",
   "execution_count": 5,
   "metadata": {},
   "outputs": [
    {
     "name": "stdout",
     "output_type": "stream",
     "text": [
      "Hello, with arg=<__main__.Person object at 0x7ff8bc3d77d0>\n"
     ]
    }
   ],
   "source": [
    "p.hello()"
   ]
  },
  {
   "cell_type": "code",
   "execution_count": 7,
   "metadata": {},
   "outputs": [],
   "source": [
    "class MyClass:\n",
    "    def hello():\n",
    "        print('hell..')\n",
    "    \n",
    "    def instance_hello(arg):\n",
    "        print(f'hello from {arg}')\n",
    "    @classmethod\n",
    "    def class_hello(arg):\n",
    "        print(f'hello from {arg}')"
   ]
  },
  {
   "cell_type": "code",
   "execution_count": 8,
   "metadata": {},
   "outputs": [],
   "source": [
    "m = MyClass()"
   ]
  },
  {
   "cell_type": "code",
   "execution_count": 9,
   "metadata": {},
   "outputs": [
    {
     "name": "stdout",
     "output_type": "stream",
     "text": [
      "hell..\n"
     ]
    }
   ],
   "source": [
    "MyClass.hello()"
   ]
  },
  {
   "cell_type": "code",
   "execution_count": 10,
   "metadata": {},
   "outputs": [
    {
     "ename": "TypeError",
     "evalue": "hello() takes 0 positional arguments but 1 was given",
     "output_type": "error",
     "traceback": [
      "\u001b[0;31m---------------------------------------------------------------------------\u001b[0m",
      "\u001b[0;31mTypeError\u001b[0m                                 Traceback (most recent call last)",
      "\u001b[0;32m<ipython-input-10-ee9cf145ed77>\u001b[0m in \u001b[0;36m<module>\u001b[0;34m\u001b[0m\n\u001b[0;32m----> 1\u001b[0;31m \u001b[0mm\u001b[0m\u001b[0;34m.\u001b[0m\u001b[0mhello\u001b[0m\u001b[0;34m(\u001b[0m\u001b[0;34m)\u001b[0m\u001b[0;34m\u001b[0m\u001b[0;34m\u001b[0m\u001b[0m\n\u001b[0m",
      "\u001b[0;31mTypeError\u001b[0m: hello() takes 0 positional arguments but 1 was given"
     ]
    }
   ],
   "source": [
    "m.hello()"
   ]
  },
  {
   "cell_type": "code",
   "execution_count": 11,
   "metadata": {},
   "outputs": [
    {
     "data": {
      "text/plain": [
       "<bound method MyClass.instance_hello of <__main__.MyClass object at 0x7ff8be7429d0>>"
      ]
     },
     "execution_count": 11,
     "metadata": {},
     "output_type": "execute_result"
    }
   ],
   "source": [
    "m.instance_hello"
   ]
  },
  {
   "cell_type": "code",
   "execution_count": 12,
   "metadata": {},
   "outputs": [
    {
     "name": "stdout",
     "output_type": "stream",
     "text": [
      "hello from <__main__.MyClass object at 0x7ff8be7429d0>\n"
     ]
    }
   ],
   "source": [
    "m.instance_hello()"
   ]
  },
  {
   "cell_type": "code",
   "execution_count": 13,
   "metadata": {},
   "outputs": [
    {
     "name": "stdout",
     "output_type": "stream",
     "text": [
      "hello from <class '__main__.MyClass'>\n"
     ]
    }
   ],
   "source": [
    "m.class_hello()"
   ]
  },
  {
   "cell_type": "code",
   "execution_count": 14,
   "metadata": {},
   "outputs": [
    {
     "name": "stdout",
     "output_type": "stream",
     "text": [
      "hello from <class '__main__.MyClass'>\n"
     ]
    }
   ],
   "source": [
    "MyClass.class_hello()"
   ]
  },
  {
   "cell_type": "code",
   "execution_count": null,
   "metadata": {},
   "outputs": [],
   "source": []
  },
  {
   "cell_type": "code",
   "execution_count": 15,
   "metadata": {},
   "outputs": [],
   "source": [
    "class MyClass:\n",
    "    def hello():\n",
    "        print('hell..')\n",
    "    \n",
    "    def instance_hello(arg):\n",
    "        print(f'hello from {arg}')\n",
    "    @classmethod\n",
    "    def class_hello(arg):\n",
    "        print(f'hello from {arg}')\n",
    "        \n",
    "    @staticmethod\n",
    "    def static_hello():\n",
    "        print('Static method')"
   ]
  },
  {
   "cell_type": "code",
   "execution_count": 16,
   "metadata": {},
   "outputs": [],
   "source": [
    "m = MyClass()"
   ]
  },
  {
   "cell_type": "code",
   "execution_count": 17,
   "metadata": {},
   "outputs": [
    {
     "name": "stdout",
     "output_type": "stream",
     "text": [
      "Static method\n"
     ]
    }
   ],
   "source": [
    "m.static_hello()"
   ]
  },
  {
   "cell_type": "code",
   "execution_count": 18,
   "metadata": {},
   "outputs": [
    {
     "name": "stdout",
     "output_type": "stream",
     "text": [
      "Static method\n"
     ]
    }
   ],
   "source": [
    "MyClass.static_hello()"
   ]
  },
  {
   "cell_type": "code",
   "execution_count": 19,
   "metadata": {},
   "outputs": [],
   "source": [
    "from datetime import datetime, timezone, timedelta"
   ]
  },
  {
   "cell_type": "code",
   "execution_count": 24,
   "metadata": {},
   "outputs": [],
   "source": [
    "class Timer:\n",
    "    tz = timezone.utc\n",
    "    \n",
    "    @classmethod\n",
    "    def set_tz(cls, offset, name):\n",
    "        cls.tz = timezone(timedelta(hours = offset), name)"
   ]
  },
  {
   "cell_type": "code",
   "execution_count": 25,
   "metadata": {},
   "outputs": [],
   "source": [
    "Timer.set_tz(-7, 'MST')"
   ]
  },
  {
   "cell_type": "code",
   "execution_count": 26,
   "metadata": {},
   "outputs": [
    {
     "data": {
      "text/plain": [
       "datetime.timezone(datetime.timedelta(days=-1, seconds=61200), 'MST')"
      ]
     },
     "execution_count": 26,
     "metadata": {},
     "output_type": "execute_result"
    }
   ],
   "source": [
    "Timer.tz"
   ]
  },
  {
   "cell_type": "code",
   "execution_count": 27,
   "metadata": {},
   "outputs": [],
   "source": [
    "t1 = Timer()\n",
    "t2 = Timer()"
   ]
  },
  {
   "cell_type": "code",
   "execution_count": 28,
   "metadata": {},
   "outputs": [
    {
     "data": {
      "text/plain": [
       "(datetime.timezone(datetime.timedelta(days=-1, seconds=61200), 'MST'),\n",
       " datetime.timezone(datetime.timedelta(days=-1, seconds=61200), 'MST'))"
      ]
     },
     "execution_count": 28,
     "metadata": {},
     "output_type": "execute_result"
    }
   ],
   "source": [
    "t1.tz, t2.tz"
   ]
  },
  {
   "cell_type": "code",
   "execution_count": 30,
   "metadata": {},
   "outputs": [],
   "source": [
    "class Timer:\n",
    "    tz = timezone.utc\n",
    "    \n",
    "    @classmethod\n",
    "    def set_tz(cls, offset, name):\n",
    "        cls.tz = timezone(timedelta(hours = offset), name)\n",
    "    @staticmethod \n",
    "    def current_dt_utc():\n",
    "        return datetime.now(timezone.utc)"
   ]
  },
  {
   "cell_type": "code",
   "execution_count": 31,
   "metadata": {},
   "outputs": [],
   "source": [
    "t= Timer()"
   ]
  },
  {
   "cell_type": "code",
   "execution_count": 32,
   "metadata": {},
   "outputs": [
    {
     "data": {
      "text/plain": [
       "datetime.datetime(2020, 2, 11, 13, 49, 43, 7453, tzinfo=datetime.timezone.utc)"
      ]
     },
     "execution_count": 32,
     "metadata": {},
     "output_type": "execute_result"
    }
   ],
   "source": [
    "t.current_dt_utc()"
   ]
  },
  {
   "cell_type": "code",
   "execution_count": 33,
   "metadata": {},
   "outputs": [
    {
     "data": {
      "text/plain": [
       "datetime.datetime(2020, 2, 11, 13, 50, 1, 807261, tzinfo=datetime.timezone.utc)"
      ]
     },
     "execution_count": 33,
     "metadata": {},
     "output_type": "execute_result"
    }
   ],
   "source": [
    "Timer.current_dt_utc()"
   ]
  },
  {
   "cell_type": "code",
   "execution_count": 34,
   "metadata": {},
   "outputs": [],
   "source": [
    "class Timer:\n",
    "    tz = timezone.utc\n",
    "    \n",
    "    @classmethod\n",
    "    def set_tz(cls, offset, name):\n",
    "        cls.tz = timezone(timedelta(hours = offset), name)\n",
    "    @staticmethod \n",
    "    def current_dt_utc():\n",
    "        return datetime.now(timezone.utc)\n",
    "    @classmethod\n",
    "    def current_dt(cls):\n",
    "        return datetime.now(cls.tz)"
   ]
  },
  {
   "cell_type": "code",
   "execution_count": 35,
   "metadata": {},
   "outputs": [],
   "source": [
    "t = Timer()"
   ]
  },
  {
   "cell_type": "code",
   "execution_count": 36,
   "metadata": {},
   "outputs": [
    {
     "data": {
      "text/plain": [
       "datetime.datetime(2020, 2, 11, 13, 51, 55, 368381, tzinfo=datetime.timezone.utc)"
      ]
     },
     "execution_count": 36,
     "metadata": {},
     "output_type": "execute_result"
    }
   ],
   "source": [
    "t.current_dt()"
   ]
  },
  {
   "cell_type": "code",
   "execution_count": 37,
   "metadata": {},
   "outputs": [
    {
     "data": {
      "text/plain": [
       "datetime.datetime(2020, 2, 11, 13, 52, 3, 140008, tzinfo=datetime.timezone.utc)"
      ]
     },
     "execution_count": 37,
     "metadata": {},
     "output_type": "execute_result"
    }
   ],
   "source": [
    "Timer.current_dt()"
   ]
  },
  {
   "cell_type": "code",
   "execution_count": 38,
   "metadata": {},
   "outputs": [
    {
     "data": {
      "text/plain": [
       "datetime.datetime(2020, 2, 11, 13, 53, 31, 701957, tzinfo=datetime.timezone.utc)"
      ]
     },
     "execution_count": 38,
     "metadata": {},
     "output_type": "execute_result"
    }
   ],
   "source": [
    "Timer.current_dt_utc()"
   ]
  },
  {
   "cell_type": "code",
   "execution_count": 39,
   "metadata": {},
   "outputs": [],
   "source": [
    "class TimerError(Exception):\n",
    "    \"\"\"A cuctom exception used for Timer class\"\"\""
   ]
  },
  {
   "cell_type": "code",
   "execution_count": 42,
   "metadata": {},
   "outputs": [],
   "source": [
    "class Timer:\n",
    "    tz = timezone.utc\n",
    "    \n",
    "    @classmethod\n",
    "    def set_tz(cls, offset, name):\n",
    "        cls.tz = timezone(timedelta(hours = offset), name)\n",
    "    \n",
    "    @staticmethod \n",
    "    def current_dt_utc():\n",
    "        return datetime.now(timezone.utc)\n",
    "    \n",
    "    @classmethod\n",
    "    def current_dt(cls):\n",
    "        return datetime.now(cls.tz)\n",
    "    \n",
    "    def start(self):\n",
    "        self._time_start = self.current_dt_utc()\n",
    "        self._time_end = None\n",
    "        \n",
    "    def stop(self):\n",
    "        if self._time_start is None:\n",
    "            raise TimerError('Timer must be started before it can be stopped')\n",
    "        self._time_end = self.current_dt_utc()\n",
    "        \n",
    "    @property\n",
    "    def start_time(self):\n",
    "        if self._time_start is None:\n",
    "            raise TimeoutError('Time has not been started')\n",
    "        return self._time_start.astimezone(self.tz)\n",
    "    @property\n",
    "    def end_time(self):\n",
    "        if self._time_end is None:\n",
    "            raise TimeoutError('Timer has not been stopped')\n",
    "        return self._time_end.astimezone(self.tz)\n",
    "    \n",
    "    @property\n",
    "    def elapsed(self):\n",
    "        if self._time_start is None:\n",
    "            raise TimeoutError('Timer must be started before an elapsed time can be calculated')\n",
    "        if self._time_end is None:\n",
    "            elapsed_time = self.current_dt_utc() - self._time_start\n",
    "        else:\n",
    "            elapsed_time = self._time_end - self._time_start\n",
    "        return elapsed_time.total_seconds()"
   ]
  },
  {
   "cell_type": "code",
   "execution_count": 44,
   "metadata": {},
   "outputs": [
    {
     "name": "stdout",
     "output_type": "stream",
     "text": [
      "Start time: 2020-02-11 16:59:49.771632+00:00\n",
      "End time: 2020-02-11 16:59:51.789635+00:00\n",
      "Elapsed: 2.018003\n"
     ]
    }
   ],
   "source": [
    "from time import sleep\n",
    "\n",
    "t1 = Timer()\n",
    "t1.start()\n",
    "sleep(2)\n",
    "t1.stop()\n",
    "print(f'Start time: {t1.start_time}')\n",
    "print(f'End time: {t1.end_time}')\n",
    "print(f'Elapsed: {t1.elapsed}')"
   ]
  },
  {
   "cell_type": "code",
   "execution_count": null,
   "metadata": {},
   "outputs": [],
   "source": []
  }
 ],
 "metadata": {
  "celltoolbar": "Raw Cell Format",
  "kernelspec": {
   "display_name": "Python 3",
   "language": "python",
   "name": "python3"
  },
  "language_info": {
   "codemirror_mode": {
    "name": "ipython",
    "version": 3
   },
   "file_extension": ".py",
   "mimetype": "text/x-python",
   "name": "python",
   "nbconvert_exporter": "python",
   "pygments_lexer": "ipython3",
   "version": "3.7.4"
  }
 },
 "nbformat": 4,
 "nbformat_minor": 4
}
